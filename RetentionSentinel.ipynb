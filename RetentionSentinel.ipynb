{
 "cells": [
  {
   "cell_type": "code",
   "execution_count": 1,
   "id": "2b82d080-2249-45b4-a423-55303c4cf6ad",
   "metadata": {
    "execution": {
     "iopub.execute_input": "2023-05-02T20:03:52.191288Z",
     "iopub.status.busy": "2023-05-02T20:03:52.190923Z",
     "iopub.status.idle": "2023-05-02T20:05:06.345787Z",
     "shell.execute_reply": "2023-05-02T20:05:06.344918Z",
     "shell.execute_reply.started": "2023-05-02T20:03:52.191250Z"
    },
    "tags": []
   },
   "outputs": [
    {
     "data": {
      "application/vnd.jupyter.widget-view+json": {
       "model_id": "daa9541ef90445cc8086e20121c4cb23",
       "version_major": 2,
       "version_minor": 0
      },
      "text/plain": [
       "VBox()"
      ]
     },
     "metadata": {},
     "output_type": "display_data"
    },
    {
     "name": "stdout",
     "output_type": "stream",
     "text": [
      "Starting Spark application\n"
     ]
    },
    {
     "data": {
      "text/html": [
       "<table>\n",
       "<tbody><tr><th>ID</th><th>YARN Application ID</th><th>Kind</th><th>State</th><th>Spark UI</th><th>Driver log</th><th>User</th><th>Current session?</th></tr><tr><td>0</td><td>application_1683057429952_0001</td><td>pyspark</td><td>idle</td><td><a target=\"_blank\" href=\"http://ip-172-31-44-226.ec2.internal:20888/proxy/application_1683057429952_0001/\" class=\"emr-proxy-link j-2O0V7A2FGF7J1 application_1683057429952_0001\" emr-resource=\"j-2O0V7A2FGF7J1\n",
       "\" application-id=\"application_1683057429952_0001\">Link</a></td><td><a target=\"_blank\" href=\"http://ip-172-31-40-17.ec2.internal:8042/node/containerlogs/container_1683057429952_0001_01_000001/livy\">Link</a></td><td>None</td><td>✔</td></tr></tbody></table>"
      ],
      "text/plain": [
       "<IPython.core.display.HTML object>"
      ]
     },
     "metadata": {},
     "output_type": "display_data"
    },
    {
     "data": {
      "application/vnd.jupyter.widget-view+json": {
       "model_id": "",
       "version_major": 2,
       "version_minor": 0
      },
      "text/plain": [
       "FloatProgress(value=0.0, bar_style='info', description='Progress:', layout=Layout(height='25px', width='50%'),…"
      ]
     },
     "metadata": {},
     "output_type": "display_data"
    },
    {
     "name": "stdout",
     "output_type": "stream",
     "text": [
      "SparkSession available as 'spark'.\n"
     ]
    },
    {
     "data": {
      "application/vnd.jupyter.widget-view+json": {
       "model_id": "",
       "version_major": 2,
       "version_minor": 0
      },
      "text/plain": [
       "FloatProgress(value=0.0, bar_style='info', description='Progress:', layout=Layout(height='25px', width='50%'),…"
      ]
     },
     "metadata": {},
     "output_type": "display_data"
    },
    {
     "name": "stdout",
     "output_type": "stream",
     "text": [
      "Collecting pandas==0.25.1\n",
      "  Downloading https://files.pythonhosted.org/packages/7e/ab/ea76361f9d3e732e114adcd801d2820d5319c23d0ac5482fa3b412db217e/pandas-0.25.1-cp37-cp37m-manylinux1_x86_64.whl (10.4MB)\n",
      "Requirement already satisfied: numpy>=1.13.3 in /usr/local/lib64/python3.7/site-packages (from pandas==0.25.1)\n",
      "Collecting python-dateutil>=2.6.1 (from pandas==0.25.1)\n",
      "  Downloading https://files.pythonhosted.org/packages/36/7a/87837f39d0296e723bb9b62bbb257d0355c7f6128853c78955f57342a56d/python_dateutil-2.8.2-py2.py3-none-any.whl (247kB)\n",
      "Requirement already satisfied: pytz>=2017.2 in /usr/local/lib/python3.7/site-packages (from pandas==0.25.1)\n",
      "Requirement already satisfied: six>=1.5 in /usr/local/lib/python3.7/site-packages (from python-dateutil>=2.6.1->pandas==0.25.1)\n",
      "Installing collected packages: python-dateutil, pandas\n",
      "Successfully installed pandas-0.25.1 python-dateutil-2.8.2\n",
      "\n",
      "You are using pip version 9.0.1, however version 23.1.2 is available.\n",
      "You should consider upgrading via the 'pip install --upgrade pip' command."
     ]
    }
   ],
   "source": [
    "from pyspark.conf import SparkConf\n",
    "from pyspark.context import SparkContext\n",
    "\n",
    "conf = SparkConf().setAppName(\"sparkify\").setMaster(\"local[*]\").set(\n",
    "    \"spark.pyspark.virtualenv.enabled\", \"true\")\n",
    "sc = SparkContext.getOrCreate(conf=conf)\n",
    "\n",
    "sc.install_pypi_package(\"pandas==0.25.1\")"
   ]
  },
  {
   "cell_type": "code",
   "execution_count": 26,
   "id": "e48a1a7b-3a6d-48a2-8c40-639616fd6ff4",
   "metadata": {
    "execution": {
     "iopub.execute_input": "2023-05-02T20:05:06.347407Z",
     "iopub.status.busy": "2023-05-02T20:05:06.347090Z",
     "iopub.status.idle": "2023-05-02T20:05:08.012245Z",
     "shell.execute_reply": "2023-05-02T20:05:08.011053Z",
     "shell.execute_reply.started": "2023-05-02T20:05:06.347375Z"
    },
    "tags": []
   },
   "outputs": [],
   "source": [
    "import datetime\n",
    "import time\n",
    "import numpy as np\n",
    "import pandas as pd\n",
    "import matplotlib.pyplot as plt\n",
    "import seaborn as sns\n",
    "from pyspark.sql import SparkSession\n",
    "from pyspark.sql.types import ArrayType, BooleanType, LongType, FloatType, IntegerType\n",
    "from pyspark.sql.functions import udf\n",
    "from pyspark.sql import Window\n",
    "from pyspark.sql.functions import sum as Fsum\n",
    "from pyspark.sql import functions as F\n",
    "from pyspark.ml.feature import VectorAssembler, Normalizer, StandardScaler\n",
    "from pyspark.ml.classification import LogisticRegression, RandomForestClassifier, GBTClassifier\n",
    "from pyspark.ml.evaluation import MulticlassClassificationEvaluator, BinaryClassificationEvaluator\n",
    "from pyspark.ml import Pipeline\n",
    "from pyspark.ml.tuning import CrossValidator, ParamGridBuilder"
   ]
  },
  {
   "cell_type": "code",
   "execution_count": 28,
   "id": "77214422-9130-4d2f-85bb-73e1374c19ea",
   "metadata": {
    "execution": {
     "iopub.execute_input": "2023-05-02T20:05:08.015711Z",
     "iopub.status.busy": "2023-05-02T20:05:08.014908Z",
     "iopub.status.idle": "2023-05-02T20:05:27.638182Z",
     "shell.execute_reply": "2023-05-02T20:05:27.637138Z",
     "shell.execute_reply.started": "2023-05-02T20:05:08.015656Z"
    },
    "tags": []
   },
   "outputs": [
    {
     "name": "stdout",
     "output_type": "stream",
     "text": [
      "root\n",
      " |-- artist: string (nullable = true)\n",
      " |-- auth: string (nullable = true)\n",
      " |-- firstName: string (nullable = true)\n",
      " |-- gender: string (nullable = true)\n",
      " |-- itemInSession: long (nullable = true)\n",
      " |-- lastName: string (nullable = true)\n",
      " |-- length: double (nullable = true)\n",
      " |-- level: string (nullable = true)\n",
      " |-- location: string (nullable = true)\n",
      " |-- method: string (nullable = true)\n",
      " |-- page: string (nullable = true)\n",
      " |-- registration: long (nullable = true)\n",
      " |-- sessionId: long (nullable = true)\n",
      " |-- song: string (nullable = true)\n",
      " |-- status: long (nullable = true)\n",
      " |-- ts: long (nullable = true)\n",
      " |-- userAgent: string (nullable = true)\n",
      " |-- userId: string (nullable = true)\n",
      "\n"
     ]
    },
    {
     "name": "stderr",
     "output_type": "stream",
     "text": [
      "\r\n",
      "[Stage 3806:>                                                       (0 + 8) / 8]\r\n",
      "\r\n",
      "                                                                                \r"
     ]
    }
   ],
   "source": [
    "spark = SparkSession.builder.master(\"local[*]\").appName(\n",
    "    \"sparkify\").getOrCreate()\n",
    "# dataframe = spark.read.json(\"s3://csp-554-final-project/mini_sparkify_event_data.json\")\n",
    "dataframe = spark.read.json(\"./data/mini_sparkify_event_data.json\")\n",
    "dataframe.printSchema()\n"
   ]
  },
  {
   "cell_type": "code",
   "execution_count": 30,
   "id": "4daad6c6",
   "metadata": {},
   "outputs": [
    {
     "name": "stderr",
     "output_type": "stream",
     "text": [
      "[Stage 3807:=======>                                                (1 + 7) / 8]\r"
     ]
    },
    {
     "name": "stdout",
     "output_type": "stream",
     "text": [
      "+------+----+---------+------+-------------+--------+------+-----+--------+------+----+------------+---------+-----+------+---+---------+------+\n",
      "|artist|auth|firstName|gender|itemInSession|lastName|length|level|location|method|page|registration|sessionId| song|status| ts|userAgent|userId|\n",
      "+------+----+---------+------+-------------+--------+------+-----+--------+------+----+------------+---------+-----+------+---+---------+------+\n",
      "| 58392|   0|     8346|  8346|            0|    8346| 58392|    0|    8346|     0|   0|        8346|        0|58392|     0|  0|     8346|     0|\n",
      "+------+----+---------+------+-------------+--------+------+-----+--------+------+----+------------+---------+-----+------+---+---------+------+\n",
      "\n"
     ]
    },
    {
     "name": "stderr",
     "output_type": "stream",
     "text": [
      "\r\n",
      "                                                                                \r"
     ]
    }
   ],
   "source": [
    "#Find count of null, none, NaN of all dataframe columns\n",
    "from pyspark.sql.functions import col,isnan, when, count\n",
    "dataframe.select([count(when(isnan(c) | col(c).isNull(), c)).alias(c) for c in dataframe.columns]).show()"
   ]
  },
  {
   "cell_type": "code",
   "execution_count": 31,
   "id": "4b652328",
   "metadata": {},
   "outputs": [
    {
     "name": "stdout",
     "output_type": "stream",
     "text": [
      "The number of entries(rows) in the dataset: 286500\n",
      "The number of features(columns) in the dataset: 18\n"
     ]
    }
   ],
   "source": [
    "print(\"The number of entries(rows) in the dataset: {}\".format(dataframe.count()))\n",
    "print(\"The number of features(columns) in the dataset: {}\".format(len(dataframe.columns)))"
   ]
  },
  {
   "cell_type": "code",
   "execution_count": 32,
   "id": "4d6f7d18",
   "metadata": {},
   "outputs": [],
   "source": [
    "#data cleaning\n",
    "dataframe.select(\"page\").dropDuplicates()\n",
    "dataframe = dataframe.drop(*['artist', 'song', 'firstName', 'lastName','id_copy'])  \n",
    "dataframe = dataframe.dropna(how='any',subset=['userId','sessionId'])  \n",
    "dataframe = dataframe.filter(dataframe.userId != '').orderBy([\"userId\", \"ts\"], ascending=[True, True]) \n",
    "dataframe = dataframe.withColumn(\"userId\", dataframe[\"userId\"].cast(IntegerType())) "
   ]
  },
  {
   "cell_type": "code",
   "execution_count": 33,
   "id": "eb588c24-cf7e-49fe-b269-fca673dc7538",
   "metadata": {
    "execution": {
     "iopub.execute_input": "2023-05-02T20:05:27.640157Z",
     "iopub.status.busy": "2023-05-02T20:05:27.639908Z",
     "iopub.status.idle": "2023-05-02T20:05:28.843113Z",
     "shell.execute_reply": "2023-05-02T20:05:27.989595Z",
     "shell.execute_reply.started": "2023-05-02T20:05:27.640125Z"
    },
    "tags": []
   },
   "outputs": [],
   "source": [
    "cancel = udf(lambda x: 1 if x == \"Cancellation Confirmation\" else 0,\n",
    "                  IntegerType())\n",
    "dataframe = dataframe.withColumn(\"churn\", cancel(\"page\"))\n",
    "w = Window.partitionBy(\"userId\").rangeBetween(Window.unboundedPreceding,\n",
    "                                                   Window.unboundedFollowing)\n",
    "dataframe = dataframe.withColumn(\"churn\", Fsum(\"churn\").over(w))"
   ]
  },
  {
   "cell_type": "code",
   "execution_count": 34,
   "id": "9b55d430-e65e-4754-abce-b54112ca2e75",
   "metadata": {
    "execution": {
     "iopub.execute_input": "2023-05-02T20:05:28.845155Z",
     "iopub.status.busy": "2023-05-02T20:05:28.844781Z",
     "iopub.status.idle": "2023-05-02T20:05:29.244517Z",
     "shell.execute_reply": "2023-05-02T20:05:29.243374Z",
     "shell.execute_reply.started": "2023-05-02T20:05:28.845103Z"
    },
    "tags": []
   },
   "outputs": [],
   "source": [
    "w1 = Window.partitionBy().orderBy([\"userId\", \"ts\"])\n",
    "dataframe = dataframe.withColumn(\"level_shift\", (dataframe.level != F.lag(dataframe.level).over(w1)) |\n",
    "                   (dataframe.userId != F.lag(dataframe.userId).over(w1)))\n",
    "dataframe = dataframe.fillna({'level_shift': 0})\n",
    "dataframe = dataframe.withColumn(\"level_shift\",\n",
    "                   F.when(dataframe[\"level_shift\"] == False, 0).otherwise(1))"
   ]
  },
  {
   "cell_type": "code",
   "execution_count": 35,
   "id": "821ce4ee-7b59-4a11-ae8e-064d2b8b6572",
   "metadata": {
    "execution": {
     "iopub.execute_input": "2023-05-02T20:05:29.248920Z",
     "iopub.status.busy": "2023-05-02T20:05:29.247726Z",
     "iopub.status.idle": "2023-05-02T20:05:30.159623Z",
     "shell.execute_reply": "2023-05-02T20:05:30.158628Z",
     "shell.execute_reply.started": "2023-05-02T20:05:29.248869Z"
    },
    "tags": []
   },
   "outputs": [],
   "source": [
    "dataframe = dataframe.withColumn(\n",
    "    \"ts\", dataframe.ts /\n",
    "    1000)  # trimming the last three zeros from the UNIX time (miliseconds)\n",
    "dataframe = dataframe.withColumn(\"registration\", dataframe.registration / 1000)\n",
    "\n",
    "w2 = Window.partitionBy(\"userId\")\n",
    "dataframe = dataframe.withColumn(\"last_ts\", F.max('ts').over(w2))\n",
    "dataframe = dataframe.filter(\n",
    "    dataframe.last_ts - dataframe.ts < 1300000\n",
    ") "
   ]
  },
  {
   "cell_type": "code",
   "execution_count": 36,
   "id": "2925215a",
   "metadata": {},
   "outputs": [
    {
     "name": "stdout",
     "output_type": "stream",
     "text": [
      "+------+-----+\n",
      "|gender|count|\n",
      "+------+-----+\n",
      "|     F|49719|\n",
      "|     M|53562|\n",
      "+------+-----+\n",
      "\n"
     ]
    }
   ],
   "source": [
    "dataframe.groupby('gender').count().show()"
   ]
  },
  {
   "cell_type": "code",
   "execution_count": 37,
   "id": "57b372cd",
   "metadata": {},
   "outputs": [
    {
     "name": "stderr",
     "output_type": "stream",
     "text": [
      "No artists with labels found to put in legend.  Note that artists whose label start with an underscore are ignored when legend() is called with no argument.\n"
     ]
    },
    {
     "data": {
      "image/png": "[encoded data removed]",
      "text/plain": [
       "<Figure size 500x500 with 1 Axes>"
      ]
     },
     "metadata": {},
     "output_type": "display_data"
    }
   ],
   "source": [
    "#Gender\n",
    "gender_df = dataframe.groupby('gender').count().toPandas()\n",
    "fig, ax = plt.subplots(figsize=(5, 5))\n",
    "ax.bar(gender_df['gender'], gender_df['count'])\n",
    "ax.set_ylabel('Count')\n",
    "ax.set_xlabel('Gender of User')\n",
    "ax.legend()\n",
    "fig.autofmt_xdate()\n",
    "plt.show()"
   ]
  },
  {
   "cell_type": "code",
   "execution_count": 38,
   "id": "085e85a1",
   "metadata": {},
   "outputs": [
    {
     "name": "stdout",
     "output_type": "stream",
     "text": [
      "+------+-----+\n",
      "|method|count|\n",
      "+------+-----+\n",
      "|   PUT|95838|\n",
      "|   GET| 7443|\n",
      "+------+-----+\n",
      "\n"
     ]
    }
   ],
   "source": [
    "dataframe.groupby('method').count().show()"
   ]
  },
  {
   "cell_type": "code",
   "execution_count": 41,
   "id": "ed9bd9c5",
   "metadata": {},
   "outputs": [
    {
     "name": "stderr",
     "output_type": "stream",
     "text": [
      "No artists with labels found to put in legend.  Note that artists whose label start with an underscore are ignored when legend() is called with no argument.\n"
     ]
    },
    {
     "data": {
      "image/png": "[encoded data removed]",
      "text/plain": [
       "<Figure size 500x500 with 1 Axes>"
      ]
     },
     "metadata": {},
     "output_type": "display_data"
    }
   ],
   "source": [
    "#Method\n",
    "method_df = dataframe.groupby('method').count().toPandas()\n",
    "fig, ax = plt.subplots(figsize=(5, 5))\n",
    "ax.bar(method_df['method'], method_df['count'])\n",
    "ax.set_ylabel('Count')\n",
    "ax.set_xlabel('HTTP request method')\n",
    "ax.legend()\n",
    "fig.autofmt_xdate()\n",
    "plt.show()"
   ]
  },
  {
   "cell_type": "code",
   "execution_count": 42,
   "id": "6d7b0613",
   "metadata": {},
   "outputs": [
    {
     "name": "stdout",
     "output_type": "stream",
     "text": [
      "+------+-----+\n",
      "|status|count|\n",
      "+------+-----+\n",
      "|   307| 8441|\n",
      "|   404|   80|\n",
      "|   200|94760|\n",
      "+------+-----+\n",
      "\n"
     ]
    }
   ],
   "source": [
    "dataframe.groupby('status').count().show()"
   ]
  },
  {
   "cell_type": "code",
   "execution_count": 43,
   "id": "77e40142",
   "metadata": {},
   "outputs": [
    {
     "name": "stderr",
     "output_type": "stream",
     "text": [
      "No artists with labels found to put in legend.  Note that artists whose label start with an underscore are ignored when legend() is called with no argument.\n"
     ]
    },
    {
     "data": {
      "image/png": "[encoded data removed]",
      "text/plain": [
       "<Figure size 500x500 with 1 Axes>"
      ]
     },
     "metadata": {},
     "output_type": "display_data"
    }
   ],
   "source": [
    "#Status\n",
    "status_df = dataframe.groupby('status').count().toPandas()\n",
    "fig, ax = plt.subplots(figsize=(5, 5))\n",
    "ax.bar(status_df['status'], status_df['count'])\n",
    "ax.set_ylabel('Count')\n",
    "ax.set_xlabel('HTTP status code')\n",
    "ax.legend()\n",
    "fig.autofmt_xdate()\n",
    "plt.show()"
   ]
  },
  {
   "cell_type": "code",
   "execution_count": 44,
   "id": "42a85095",
   "metadata": {},
   "outputs": [
    {
     "name": "stdout",
     "output_type": "stream",
     "text": [
      "+-----+-----+\n",
      "|level|count|\n",
      "+-----+-----+\n",
      "| free|16827|\n",
      "| paid|86454|\n",
      "+-----+-----+\n",
      "\n"
     ]
    }
   ],
   "source": [
    "dataframe.groupby('level').count().show()"
   ]
  },
  {
   "cell_type": "code",
   "execution_count": 45,
   "id": "777fcf42",
   "metadata": {},
   "outputs": [
    {
     "name": "stderr",
     "output_type": "stream",
     "text": [
      "No artists with labels found to put in legend.  Note that artists whose label start with an underscore are ignored when legend() is called with no argument.\n"
     ]
    },
    {
     "data": {
      "image/png": "[encoded data removed]",
      "text/plain": [
       "<Figure size 500x500 with 1 Axes>"
      ]
     },
     "metadata": {},
     "output_type": "display_data"
    }
   ],
   "source": [
    "#Level\n",
    "level_df = dataframe.groupby('level').count().toPandas()\n",
    "fig, ax = plt.subplots(figsize=(5, 5))\n",
    "ax.bar(level_df['level'], level_df['count'])\n",
    "ax.set_ylabel('Count')\n",
    "ax.set_xlabel('Subscription level')\n",
    "ax.legend()\n",
    "fig.autofmt_xdate()\n",
    "plt.show()"
   ]
  },
  {
   "cell_type": "code",
   "execution_count": 46,
   "id": "59f3ebbb",
   "metadata": {},
   "outputs": [
    {
     "name": "stdout",
     "output_type": "stream",
     "text": [
      "+---------+------+\n",
      "|     auth| count|\n",
      "+---------+------+\n",
      "|Cancelled|    52|\n",
      "|Logged In|103229|\n",
      "+---------+------+\n",
      "\n"
     ]
    }
   ],
   "source": [
    "dataframe.groupby('auth').count().show()"
   ]
  },
  {
   "cell_type": "code",
   "execution_count": 47,
   "id": "ecbab2aa",
   "metadata": {},
   "outputs": [
    {
     "name": "stderr",
     "output_type": "stream",
     "text": [
      "No artists with labels found to put in legend.  Note that artists whose label start with an underscore are ignored when legend() is called with no argument.\n"
     ]
    },
    {
     "data": {
      "image/png": "[encoded data removed]",
      "text/plain": [
       "<Figure size 500x500 with 1 Axes>"
      ]
     },
     "metadata": {},
     "output_type": "display_data"
    }
   ],
   "source": [
    "#Auth\n",
    "auth_df = dataframe.groupby('auth').count().toPandas()\n",
    "fig, ax = plt.subplots(figsize=(5, 5))\n",
    "ax.bar(auth_df['auth'], auth_df['count'])\n",
    "ax.set_ylabel('Count')\n",
    "ax.set_xlabel('Authentication level')\n",
    "ax.legend()\n",
    "fig.autofmt_xdate()\n",
    "plt.show()"
   ]
  },
  {
   "cell_type": "code",
   "execution_count": 48,
   "id": "069055e5",
   "metadata": {},
   "outputs": [
    {
     "name": "stdout",
     "output_type": "stream",
     "text": [
      "+-----+-----+\n",
      "|churn|count|\n",
      "+-----+-----+\n",
      "|    0|75545|\n",
      "|    1|27736|\n",
      "+-----+-----+\n",
      "\n"
     ]
    }
   ],
   "source": [
    "dataframe.groupby('churn').count().show()"
   ]
  },
  {
   "cell_type": "code",
   "execution_count": 49,
   "id": "11e3f204",
   "metadata": {},
   "outputs": [
    {
     "name": "stderr",
     "output_type": "stream",
     "text": [
      "No artists with labels found to put in legend.  Note that artists whose label start with an underscore are ignored when legend() is called with no argument.\n"
     ]
    },
    {
     "data": {
      "image/png": "[encoded data removed]",
      "text/plain": [
       "<Figure size 500x500 with 1 Axes>"
      ]
     },
     "metadata": {},
     "output_type": "display_data"
    }
   ],
   "source": [
    "#Churn\n",
    "churn_df = dataframe.groupby('churn').count().toPandas()\n",
    "fig, ax = plt.subplots(figsize=(5, 5))\n",
    "ax.bar(churn_df['churn'], churn_df['count'])\n",
    "ax.set_ylabel('Count')\n",
    "ax.set_xlabel('Churn Count')\n",
    "ax.legend()\n",
    "fig.autofmt_xdate()\n",
    "plt.show()"
   ]
  },
  {
   "cell_type": "code",
   "execution_count": 50,
   "id": "a3eb3445",
   "metadata": {},
   "outputs": [
    {
     "name": "stderr",
     "output_type": "stream",
     "text": [
      "\r\n",
      "[Stage 3946:=================================================>      (7 + 1) / 8]\r"
     ]
    },
    {
     "name": "stdout",
     "output_type": "stream",
     "text": [
      "+--------------------+-----+\n",
      "|                page|count|\n",
      "+--------------------+-----+\n",
      "|              Cancel|   52|\n",
      "|    Submit Downgrade|   16|\n",
      "|         Thumbs Down|  917|\n",
      "|                Home| 3701|\n",
      "|           Downgrade|  821|\n",
      "|         Roll Advert| 1308|\n",
      "|              Logout| 1201|\n",
      "|       Save Settings|  126|\n",
      "|Cancellation Conf...|   52|\n",
      "|               About|  183|\n",
      "|            Settings|  607|\n",
      "|     Add to Playlist| 2380|\n",
      "|          Add Friend| 1613|\n",
      "|            NextSong|85017|\n",
      "|           Thumbs Up| 4479|\n",
      "|                Help|  537|\n",
      "|             Upgrade|  154|\n",
      "|               Error|   80|\n",
      "|      Submit Upgrade|   37|\n",
      "+--------------------+-----+\n",
      "\n"
     ]
    },
    {
     "name": "stderr",
     "output_type": "stream",
     "text": [
      "\r\n",
      "                                                                                \r"
     ]
    }
   ],
   "source": [
    "dataframe.groupby('page').count().show()"
   ]
  },
  {
   "cell_type": "code",
   "execution_count": 51,
   "id": "78d861ea",
   "metadata": {},
   "outputs": [
    {
     "name": "stderr",
     "output_type": "stream",
     "text": [
      "No artists with labels found to put in legend.  Note that artists whose label start with an underscore are ignored when legend() is called with no argument.\n"
     ]
    },
    {
     "data": {
      "image/png": "[encoded data removed]",
      "text/plain": [
       "<Figure size 1000x500 with 1 Axes>"
      ]
     },
     "metadata": {},
     "output_type": "display_data"
    }
   ],
   "source": [
    "#Page\n",
    "pages_df = dataframe.groupby('page').count().toPandas()\n",
    "fig, ax = plt.subplots(figsize=(10, 5))\n",
    "ax.bar(pages_df['page'], pages_df['count'])\n",
    "ax.set_ylabel('Count')\n",
    "ax.set_xlabel('Activity')\n",
    "ax.set_title('Type of activity/interaction by user on page')\n",
    "ax.legend()\n",
    "fig.autofmt_xdate()\n",
    "plt.show()"
   ]
  },
  {
   "cell_type": "code",
   "execution_count": 52,
   "id": "b59c6de3",
   "metadata": {},
   "outputs": [
    {
     "name": "stderr",
     "output_type": "stream",
     "text": [
      "\r\n",
      "[Stage 3967:>                                                       (0 + 8) / 8]\r\n",
      "\r\n",
      "                                                                                \r"
     ]
    },
    {
     "name": "stdout",
     "output_type": "stream",
     "text": [
      "+-------+------------------+\n",
      "|summary|            length|\n",
      "+-------+------------------+\n",
      "|  count|             85017|\n",
      "|   mean|249.21954353494107|\n",
      "| stddev| 97.85934702365256|\n",
      "|    min|           0.78322|\n",
      "|    max|        3024.66567|\n",
      "+-------+------------------+\n",
      "\n"
     ]
    }
   ],
   "source": [
    "dataframe.describe('length').show()"
   ]
  },
  {
   "cell_type": "code",
   "execution_count": 53,
   "id": "1d4e944a",
   "metadata": {},
   "outputs": [
    {
     "name": "stdout",
     "output_type": "stream",
     "text": [
      "+-----+------+-----+\n",
      "|churn|gender|count|\n",
      "+-----+------+-----+\n",
      "|    0|     F|39231|\n",
      "|    1|     M|17248|\n",
      "|    1|     F|10488|\n",
      "|    0|     M|36314|\n",
      "+-----+------+-----+\n",
      "\n"
     ]
    }
   ],
   "source": [
    "dataframe.groupby(['churn', 'gender']).count().show()"
   ]
  },
  {
   "cell_type": "code",
   "execution_count": 54,
   "id": "b3d55b73",
   "metadata": {},
   "outputs": [
    {
     "name": "stdout",
     "output_type": "stream",
     "text": [
      "+-----+-----+-----+\n",
      "|churn|level|count|\n",
      "+-----+-----+-----+\n",
      "|    1| paid|22219|\n",
      "|    1| free| 5517|\n",
      "|    0| free|11310|\n",
      "|    0| paid|64235|\n",
      "+-----+-----+-----+\n",
      "\n"
     ]
    }
   ],
   "source": [
    "dataframe.groupby(['churn', 'level']).count().show()"
   ]
  },
  {
   "cell_type": "code",
   "execution_count": 55,
   "id": "ed761201",
   "metadata": {},
   "outputs": [
    {
     "name": "stdout",
     "output_type": "stream",
     "text": [
      "+-----+------+-----+\n",
      "|churn|method|count|\n",
      "+-----+------+-----+\n",
      "|    0|   GET| 5249|\n",
      "|    0|   PUT|70296|\n",
      "|    1|   GET| 2194|\n",
      "|    1|   PUT|25542|\n",
      "+-----+------+-----+\n",
      "\n"
     ]
    }
   ],
   "source": [
    "dataframe.groupby(['churn', 'method']).count().show()"
   ]
  },
  {
   "cell_type": "code",
   "execution_count": 56,
   "id": "36431176",
   "metadata": {},
   "outputs": [
    {
     "name": "stderr",
     "output_type": "stream",
     "text": [
      "[Stage 4012:>                                                       (0 + 8) / 8]\r"
     ]
    },
    {
     "name": "stdout",
     "output_type": "stream",
     "text": [
      "+-----+------+-----+\n",
      "|churn|status|count|\n",
      "+-----+------+-----+\n",
      "|    0|   307| 6144|\n",
      "|    1|   307| 2297|\n",
      "|    1|   404|   22|\n",
      "|    0|   200|69343|\n",
      "|    1|   200|25417|\n",
      "|    0|   404|   58|\n",
      "+-----+------+-----+\n",
      "\n"
     ]
    },
    {
     "name": "stderr",
     "output_type": "stream",
     "text": [
      "\r\n",
      "                                                                                \r"
     ]
    }
   ],
   "source": [
    "dataframe.groupby(['churn', 'status']).count().show()"
   ]
  },
  {
   "cell_type": "code",
   "execution_count": 57,
   "id": "420666a6",
   "metadata": {},
   "outputs": [
    {
     "name": "stdout",
     "output_type": "stream",
     "text": [
      "+-----+--------------------+-----+\n",
      "|churn|                page|count|\n",
      "+-----+--------------------+-----+\n",
      "|    0|       Save Settings|   94|\n",
      "|    1|           Thumbs Up| 1169|\n",
      "|    1|          Add Friend|  385|\n",
      "|    1|     Add to Playlist|  647|\n",
      "|    0|            Settings|  440|\n",
      "|    0|          Add Friend| 1228|\n",
      "|    1|             Upgrade|   54|\n",
      "|    1|              Logout|  338|\n",
      "|    1|    Submit Downgrade|    5|\n",
      "|    1|         Thumbs Down|  301|\n",
      "|    1|                Help|  140|\n",
      "|    1|           Downgrade|  240|\n",
      "|    1|               Error|   22|\n",
      "|    0|               Error|   58|\n",
      "|    0|                Help|  397|\n",
      "|    0|         Thumbs Down|  616|\n",
      "|    0|    Submit Downgrade|   11|\n",
      "|    1|            Settings|  167|\n",
      "|    0|            NextSong|62419|\n",
      "|    0|           Downgrade|  581|\n",
      "|    0|         Roll Advert|  840|\n",
      "|    1|      Submit Upgrade|   15|\n",
      "|    1|                Home| 1016|\n",
      "|    1|         Roll Advert|  468|\n",
      "|    0|      Submit Upgrade|   22|\n",
      "|    1|              Cancel|   52|\n",
      "|    0|              Logout|  863|\n",
      "|    1|       Save Settings|   32|\n",
      "|    0|                Home| 2685|\n",
      "|    0|           Thumbs Up| 3310|\n",
      "|    0|             Upgrade|  100|\n",
      "|    1|               About|   35|\n",
      "|    1|            NextSong|22598|\n",
      "|    0|               About|  148|\n",
      "|    1|Cancellation Conf...|   52|\n",
      "|    0|     Add to Playlist| 1733|\n",
      "+-----+--------------------+-----+\n",
      "\n"
     ]
    }
   ],
   "source": [
    "dataframe.groupby(['churn', 'page']).count().show(40)"
   ]
  },
  {
   "cell_type": "code",
   "execution_count": 8,
   "id": "9128010c-21a0-4b99-894b-c294426664d4",
   "metadata": {
    "execution": {
     "iopub.execute_input": "2023-05-02T20:05:30.161300Z",
     "iopub.status.busy": "2023-05-02T20:05:30.161079Z",
     "iopub.status.idle": "2023-05-02T20:05:41.748876Z",
     "shell.execute_reply": "2023-05-02T20:05:41.736033Z",
     "shell.execute_reply.started": "2023-05-02T20:05:30.161269Z"
    },
    "tags": []
   },
   "outputs": [
    {
     "name": "stderr",
     "output_type": "stream",
     "text": [
      "[Stage 7:=============================>                             (1 + 1) / 2]\r"
     ]
    },
    {
     "name": "stdout",
     "output_type": "stream",
     "text": [
      "+--------------------+-----------+\n",
      "|                page|count(page)|\n",
      "+--------------------+-----------+\n",
      "|              Cancel|         52|\n",
      "|    Submit Downgrade|         16|\n",
      "|         Thumbs Down|        917|\n",
      "|                Home|       3701|\n",
      "|           Downgrade|        821|\n",
      "|         Roll Advert|       1308|\n",
      "|              Logout|       1201|\n",
      "|       Save Settings|        126|\n",
      "|Cancellation Conf...|         52|\n",
      "|               About|        183|\n",
      "|            Settings|        607|\n",
      "|     Add to Playlist|       2380|\n",
      "|          Add Friend|       1613|\n",
      "|            NextSong|      85017|\n",
      "|           Thumbs Up|       4479|\n",
      "|                Help|        537|\n",
      "|             Upgrade|        154|\n",
      "|               Error|         80|\n",
      "|      Submit Upgrade|         37|\n",
      "+--------------------+-----------+\n",
      "\n"
     ]
    },
    {
     "name": "stderr",
     "output_type": "stream",
     "text": [
      "\r\n",
      "                                                                                \r"
     ]
    }
   ],
   "source": [
    "w3 = Window.partitionBy([\"userId\", \"sessionId\"])\n",
    "dataframe = dataframe.withColumn(\"pages_per_session\", F.max('ItemInSession').over(w3))\n",
    "dataframe = dataframe.withColumn(\"ts_time\", F.to_timestamp(dataframe.ts)) \n",
    "dataframe = dataframe.withColumn(\"last_ts_time\",\n",
    "                   F.to_timestamp(dataframe.last_ts)) \n",
    "\n",
    "dataframe = dataframe.withColumn(\"diff_time\", F.datediff(\n",
    "    dataframe.last_ts_time, dataframe.ts_time)) \n",
    "\n",
    "dataframe = dataframe.orderBy([\"userId\", \"ts\"], ascending=[True, True])\n",
    "\n",
    "dataframe.createOrReplaceTempView('data')\n",
    "\n",
    "dataframe.select('page', 'UserId').groupby('page').agg({\n",
    "    'page': 'count'\n",
    "}).select('page', 'count(page)').show()"
   ]
  },
  {
   "cell_type": "code",
   "execution_count": 9,
   "id": "55b4282a-4e65-4ec4-bcac-38276d12e6c5",
   "metadata": {
    "execution": {
     "iopub.execute_input": "2023-05-02T20:05:41.761180Z",
     "iopub.status.busy": "2023-05-02T20:05:41.760788Z",
     "iopub.status.idle": "2023-05-02T20:05:45.629171Z",
     "shell.execute_reply": "2023-05-02T20:05:45.626419Z",
     "shell.execute_reply.started": "2023-05-02T20:05:41.761131Z"
    },
    "tags": []
   },
   "outputs": [],
   "source": [
    "fs = spark.sql(\"SELECT userId, \\\n",
    "max(churn)                                                          as label, \\\n",
    "count(case when page = 'NextSong' then userId else null end)        as song_count, \\\n",
    "count(case when page = 'Error' then userId else null end)           as error, \\\n",
    "count(case when page = 'Add Friend' then userId else null end)      as friends, \\\n",
    "count(case when page = 'Add to Playlist' then userId else null end) as playlist_count, \\\n",
    "count(case when page = 'Thumbs Up' then userId else null end)       as thumbs_up, \\\n",
    "count(case when page = 'Thumbs Down' then userId else null end)     as thumbs_down, \\\n",
    "count(case when page = 'Downgrade' then userId else null end)       as downgrade, \\\n",
    "count(distinct sessionId)                                           as count_session_dist, \\\n",
    "count(distinct diff_time)                                           as count_diff_time, \\\n",
    "round(avg(distinct pages_per_session),0)                                     as pages_per_session, \\\n",
    "round((max(ts) - min(registration))/86400,0)                                as duration, \\\n",
    "round(sum(level_shift),0)                                                  as level_shift, \\\n",
    "round(sum(length),0)                                                         as usage_time \\\n",
    "FROM data \\\n",
    "GROUP BY userId\")\n",
    "\n",
    "fs.createOrReplaceTempView('fs')\n",
    "fs = fs.na.drop() "
   ]
  },
  {
   "cell_type": "code",
   "execution_count": 10,
   "id": "02e6698a-0958-459e-b488-2864e8af42f2",
   "metadata": {
    "execution": {
     "iopub.execute_input": "2023-05-02T20:05:45.635256Z",
     "iopub.status.busy": "2023-05-02T20:05:45.634536Z",
     "iopub.status.idle": "2023-05-02T20:05:45.976707Z",
     "shell.execute_reply": "2023-05-02T20:05:45.975827Z",
     "shell.execute_reply.started": "2023-05-02T20:05:45.635172Z"
    },
    "tags": []
   },
   "outputs": [],
   "source": [
    "# Train Test Split\n",
    "train, val = fs.randomSplit([0.8, 0.2])\n",
    "assembler = VectorAssembler(inputCols=[\"userId\",\"song_count\",\"error\",\"friends\",\"playlist_count\", \\\n",
    "                                       \"thumbs_up\",\"thumbs_down\",\"downgrade\", \"count_session_dist\",\\\n",
    "                                       \"count_diff_time\",\"pages_per_session\", \"duration\",\"level_shift\",\\\n",
    "                                       \"usage_time\"], \\\n",
    "                            outputCol=\"inputFeatures\")\n",
    "scaler = Normalizer(inputCol=\"inputFeatures\", outputCol=\"features\")\n",
    "\n",
    "algo1 = LogisticRegression()\n",
    "algo2 = GBTClassifier()\n",
    "algo3 = RandomForestClassifier()\n",
    "\n",
    "p1 = Pipeline(stages=[assembler, scaler, algo1])\n",
    "p2 = Pipeline(stages=[assembler, scaler, algo2])\n",
    "p3 = Pipeline(stages=[assembler, scaler, algo3])"
   ]
  },
  {
   "cell_type": "markdown",
   "id": "c24e1a5a-1f00-4971-8ee2-f9519ebd8afb",
   "metadata": {},
   "source": [
    "## Logistic Regression"
   ]
  },
  {
   "cell_type": "code",
   "execution_count": 13,
   "id": "8c07aaf6-4743-4898-a59d-f81b2c52cc93",
   "metadata": {
    "execution": {
     "iopub.execute_input": "2023-05-02T20:05:45.978979Z",
     "iopub.status.busy": "2023-05-02T20:05:45.978590Z",
     "iopub.status.idle": "2023-05-02T20:05:46.114129Z",
     "shell.execute_reply": "2023-05-02T20:05:46.112764Z",
     "shell.execute_reply.started": "2023-05-02T20:05:45.978930Z"
    },
    "tags": []
   },
   "outputs": [],
   "source": [
    "pg =ParamGridBuilder()\\\n",
    ".addGrid(algo1.regParam, [0.0, 0,1])\\\n",
    ".addGrid(algo1.maxIter, [10])\\\n",
    ".build()\n",
    "\n",
    "ev = MulticlassClassificationEvaluator(metricName=\"f1\")\n",
    "cv = CrossValidator(estimator=p1,\n",
    "                          estimatorParamMaps=pg,\n",
    "                          evaluator=ev,\n",
    "                          numFolds=3)    "
   ]
  },
  {
   "cell_type": "code",
   "execution_count": 14,
   "id": "cc188f5a-93e3-4706-b7d7-a992df1a8255",
   "metadata": {
    "execution": {
     "iopub.execute_input": "2023-05-02T20:05:46.116339Z",
     "iopub.status.busy": "2023-05-02T20:05:46.115808Z",
     "iopub.status.idle": "2023-05-02T20:09:18.482838Z",
     "shell.execute_reply": "2023-05-02T20:09:18.481874Z",
     "shell.execute_reply.started": "2023-05-02T20:05:46.116287Z"
    },
    "tags": []
   },
   "outputs": [
    {
     "name": "stderr",
     "output_type": "stream",
     "text": [
      "23/05/03 21:26:10 WARN WindowExec: No Partition Defined for Window operation! Moving all data to a single partition, this can cause serious performance degradation.\n",
      "23/05/03 21:26:10 WARN package: Truncated the string representation of a plan since it was too large. This behavior can be adjusted by setting 'spark.sql.debug.maxToStringFields'.\n",
      "23/05/03 21:26:11 WARN WindowExec: No Partition Defined for Window operation! Moving all data to a single partition, this can cause serious performance degradation.\n",
      "23/05/03 21:26:33 WARN InstanceBuilder: Failed to load implementation from:dev.ludovic.netlib.blas.JNIBLAS\n",
      "23/05/03 21:27:19 WARN WindowExec: No Partition Defined for Window operation! Moving all data to a single partition, this can cause serious performance degradation.\n",
      "23/05/03 21:27:19 WARN WindowExec: No Partition Defined for Window operation! Moving all data to a single partition, this can cause serious performance degradation.\n",
      "23/05/03 21:27:56 WARN WindowExec: No Partition Defined for Window operation! Moving all data to a single partition, this can cause serious performance degradation.\n",
      "23/05/03 21:27:56 WARN WindowExec: No Partition Defined for Window operation! Moving all data to a single partition, this can cause serious performance degradation.\n",
      "23/05/03 21:28:31 WARN WindowExec: No Partition Defined for Window operation! Moving all data to a single partition, this can cause serious performance degradation.\n",
      "23/05/03 21:28:31 WARN WindowExec: No Partition Defined for Window operation! Moving all data to a single partition, this can cause serious performance degradation.\n",
      "23/05/03 21:28:32 WARN WindowExec: No Partition Defined for Window operation! Moving all data to a single partition, this can cause serious performance degradation.\n",
      "23/05/03 21:28:32 WARN WindowExec: No Partition Defined for Window operation! Moving all data to a single partition, this can cause serious performance degradation.\n",
      "23/05/03 21:28:32 WARN WindowExec: No Partition Defined for Window operation! Moving all data to a single partition, this can cause serious performance degradation.\n",
      "23/05/03 21:28:32 WARN WindowExec: No Partition Defined for Window operation! Moving all data to a single partition, this can cause serious performance degradation.\n",
      "23/05/03 21:28:34 WARN WindowExec: No Partition Defined for Window operation! Moving all data to a single partition, this can cause serious performance degradation.\n",
      "23/05/03 21:28:34 WARN WindowExec: No Partition Defined for Window operation! Moving all data to a single partition, this can cause serious performance degradation.\n",
      "23/05/03 21:28:36 WARN WindowExec: No Partition Defined for Window operation! Moving all data to a single partition, this can cause serious performance degradation.\n",
      "23/05/03 21:28:36 WARN WindowExec: No Partition Defined for Window operation! Moving all data to a single partition, this can cause serious performance degradation.\n",
      "23/05/03 21:28:36 WARN WindowExec: No Partition Defined for Window operation! Moving all data to a single partition, this can cause serious performance degradation.\n",
      "23/05/03 21:28:36 WARN WindowExec: No Partition Defined for Window operation! Moving all data to a single partition, this can cause serious performance degradation.\n",
      "23/05/03 21:28:39 WARN WindowExec: No Partition Defined for Window operation! Moving all data to a single partition, this can cause serious performance degradation.\n",
      "23/05/03 21:28:39 WARN WindowExec: No Partition Defined for Window operation! Moving all data to a single partition, this can cause serious performance degradation.\n",
      "23/05/03 21:28:40 WARN WindowExec: No Partition Defined for Window operation! Moving all data to a single partition, this can cause serious performance degradation.\n",
      "23/05/03 21:28:40 WARN WindowExec: No Partition Defined for Window operation! Moving all data to a single partition, this can cause serious performance degradation.\n",
      "23/05/03 21:28:40 WARN WindowExec: No Partition Defined for Window operation! Moving all data to a single partition, this can cause serious performance degradation.\n",
      "23/05/03 21:28:40 WARN WindowExec: No Partition Defined for Window operation! Moving all data to a single partition, this can cause serious performance degradation.\n",
      "23/05/03 21:28:42 WARN WindowExec: No Partition Defined for Window operation! Moving all data to a single partition, this can cause serious performance degradation.\n",
      "23/05/03 21:28:42 WARN WindowExec: No Partition Defined for Window operation! Moving all data to a single partition, this can cause serious performance degradation.\n",
      "23/05/03 21:28:44 WARN WindowExec: No Partition Defined for Window operation! Moving all data to a single partition, this can cause serious performance degradation.\n",
      "23/05/03 21:28:44 WARN WindowExec: No Partition Defined for Window operation! Moving all data to a single partition, this can cause serious performance degradation.\n",
      "23/05/03 21:28:44 WARN WindowExec: No Partition Defined for Window operation! Moving all data to a single partition, this can cause serious performance degradation.\n",
      "23/05/03 21:28:44 WARN WindowExec: No Partition Defined for Window operation! Moving all data to a single partition, this can cause serious performance degradation.\n"
     ]
    }
   ],
   "source": [
    "model1 = cv.fit(train)"
   ]
  },
  {
   "cell_type": "code",
   "execution_count": 15,
   "id": "7c1af87d-ed3d-4c07-8d9a-0a9d8f19a1f3",
   "metadata": {
    "execution": {
     "iopub.execute_input": "2023-05-02T20:09:18.484558Z",
     "iopub.status.busy": "2023-05-02T20:09:18.484197Z",
     "iopub.status.idle": "2023-05-02T20:09:32.647552Z",
     "shell.execute_reply": "2023-05-02T20:09:32.646687Z",
     "shell.execute_reply.started": "2023-05-02T20:09:18.484504Z"
    },
    "tags": []
   },
   "outputs": [
    {
     "name": "stderr",
     "output_type": "stream",
     "text": [
      "23/05/03 21:28:46 WARN WindowExec: No Partition Defined for Window operation! Moving all data to a single partition, this can cause serious performance degradation.\n",
      "23/05/03 21:28:46 WARN WindowExec: No Partition Defined for Window operation! Moving all data to a single partition, this can cause serious performance degradation.\n",
      "23/05/03 21:28:47 WARN WindowExec: No Partition Defined for Window operation! Moving all data to a single partition, this can cause serious performance degradation.\n",
      "23/05/03 21:28:47 WARN WindowExec: No Partition Defined for Window operation! Moving all data to a single partition, this can cause serious performance degradation.\n",
      "23/05/03 21:28:47 WARN WindowExec: No Partition Defined for Window operation! Moving all data to a single partition, this can cause serious performance degradation.\n",
      "23/05/03 21:28:47 WARN WindowExec: No Partition Defined for Window operation! Moving all data to a single partition, this can cause serious performance degradation.\n",
      "                                                                                \r"
     ]
    },
    {
     "data": {
      "text/plain": [
       "0.7008547008547008"
      ]
     },
     "execution_count": 15,
     "metadata": {},
     "output_type": "execute_result"
    }
   ],
   "source": [
    "ev.evaluate(model1.transform(val))"
   ]
  },
  {
   "cell_type": "markdown",
   "id": "88688fc2-be52-4f8a-ab58-b94b9aa25531",
   "metadata": {
    "execution": {
     "iopub.execute_input": "2023-04-30T20:47:41.357493Z",
     "iopub.status.busy": "2023-04-30T20:47:41.357063Z",
     "iopub.status.idle": "2023-04-30T20:47:41.493616Z",
     "shell.execute_reply": "2023-04-30T20:47:41.492454Z",
     "shell.execute_reply.started": "2023-04-30T20:47:41.357439Z"
    }
   },
   "source": [
    "## Gradient Boosted Tree Classifier"
   ]
  },
  {
   "cell_type": "code",
   "execution_count": 16,
   "id": "7a32169d-0367-45e5-b3eb-63547f4cca0c",
   "metadata": {
    "execution": {
     "iopub.execute_input": "2023-05-02T20:10:25.002770Z",
     "iopub.status.busy": "2023-05-02T20:10:25.002458Z",
     "iopub.status.idle": "2023-05-02T20:10:25.107036Z",
     "shell.execute_reply": "2023-05-02T20:10:25.106083Z",
     "shell.execute_reply.started": "2023-05-02T20:10:25.002735Z"
    },
    "tags": []
   },
   "outputs": [],
   "source": [
    "pg2 =ParamGridBuilder().build()\n",
    "cv = CrossValidator(estimator=p2,\n",
    "                          estimatorParamMaps=pg2,\n",
    "                          evaluator=ev,\n",
    "                          numFolds=3)"
   ]
  },
  {
   "cell_type": "code",
   "execution_count": 17,
   "id": "ed9935f3-fcc1-4ba1-892b-5b5da8041fc1",
   "metadata": {
    "execution": {
     "iopub.execute_input": "2023-05-02T20:10:34.060359Z",
     "iopub.status.busy": "2023-05-02T20:10:34.060034Z",
     "iopub.status.idle": "2023-05-02T20:20:59.920399Z",
     "shell.execute_reply": "2023-05-02T20:20:59.919396Z",
     "shell.execute_reply.started": "2023-05-02T20:10:34.060324Z"
    },
    "tags": []
   },
   "outputs": [
    {
     "name": "stderr",
     "output_type": "stream",
     "text": [
      "23/05/03 21:30:36 WARN WindowExec: No Partition Defined for Window operation! Moving all data to a single partition, this can cause serious performance degradation.\n",
      "23/05/03 21:30:36 WARN WindowExec: No Partition Defined for Window operation! Moving all data to a single partition, this can cause serious performance degradation.\n",
      "23/05/03 21:31:48 WARN WindowExec: No Partition Defined for Window operation! Moving all data to a single partition, this can cause serious performance degradation.\n",
      "23/05/03 21:31:48 WARN WindowExec: No Partition Defined for Window operation! Moving all data to a single partition, this can cause serious performance degradation.\n",
      "23/05/03 21:32:58 WARN WindowExec: No Partition Defined for Window operation! Moving all data to a single partition, this can cause serious performance degradation.\n",
      "23/05/03 21:32:58 WARN WindowExec: No Partition Defined for Window operation! Moving all data to a single partition, this can cause serious performance degradation.\n",
      "23/05/03 21:34:08 WARN WindowExec: No Partition Defined for Window operation! Moving all data to a single partition, this can cause serious performance degradation.\n",
      "23/05/03 21:34:08 WARN WindowExec: No Partition Defined for Window operation! Moving all data to a single partition, this can cause serious performance degradation.\n",
      "23/05/03 21:34:09 WARN WindowExec: No Partition Defined for Window operation! Moving all data to a single partition, this can cause serious performance degradation.\n",
      "23/05/03 21:34:09 WARN WindowExec: No Partition Defined for Window operation! Moving all data to a single partition, this can cause serious performance degradation.\n",
      "23/05/03 21:34:10 WARN WindowExec: No Partition Defined for Window operation! Moving all data to a single partition, this can cause serious performance degradation.\n",
      "23/05/03 21:34:10 WARN WindowExec: No Partition Defined for Window operation! Moving all data to a single partition, this can cause serious performance degradation.\n",
      "23/05/03 21:34:11 WARN WindowExec: No Partition Defined for Window operation! Moving all data to a single partition, this can cause serious performance degradation.\n",
      "23/05/03 21:34:11 WARN WindowExec: No Partition Defined for Window operation! Moving all data to a single partition, this can cause serious performance degradation.\n",
      "23/05/03 21:34:14 WARN WindowExec: No Partition Defined for Window operation! Moving all data to a single partition, this can cause serious performance degradation.\n",
      "23/05/03 21:34:14 WARN WindowExec: No Partition Defined for Window operation! Moving all data to a single partition, this can cause serious performance degradation.\n",
      "23/05/03 21:34:15 WARN WindowExec: No Partition Defined for Window operation! Moving all data to a single partition, this can cause serious performance degradation.\n",
      "23/05/03 21:34:15 WARN WindowExec: No Partition Defined for Window operation! Moving all data to a single partition, this can cause serious performance degradation.\n",
      "                                                                                \r"
     ]
    }
   ],
   "source": [
    "model2 = cv.fit(train)"
   ]
  },
  {
   "cell_type": "code",
   "execution_count": 18,
   "id": "4f870ddc-b167-4d9d-abca-07772b7d4ba8",
   "metadata": {
    "execution": {
     "iopub.execute_input": "2023-05-02T20:21:55.139518Z",
     "iopub.status.busy": "2023-05-02T20:21:55.139157Z",
     "iopub.status.idle": "2023-05-02T20:22:08.595424Z",
     "shell.execute_reply": "2023-05-02T20:22:08.594465Z",
     "shell.execute_reply.started": "2023-05-02T20:21:55.139484Z"
    },
    "tags": []
   },
   "outputs": [
    {
     "name": "stderr",
     "output_type": "stream",
     "text": [
      "23/05/03 21:34:21 WARN WindowExec: No Partition Defined for Window operation! Moving all data to a single partition, this can cause serious performance degradation.\n",
      "23/05/03 21:34:21 WARN WindowExec: No Partition Defined for Window operation! Moving all data to a single partition, this can cause serious performance degradation.\n",
      "23/05/03 21:34:22 WARN WindowExec: No Partition Defined for Window operation! Moving all data to a single partition, this can cause serious performance degradation.\n",
      "23/05/03 21:34:23 WARN WindowExec: No Partition Defined for Window operation! Moving all data to a single partition, this can cause serious performance degradation.\n",
      "23/05/03 21:34:23 WARN WindowExec: No Partition Defined for Window operation! Moving all data to a single partition, this can cause serious performance degradation.\n",
      "23/05/03 21:34:23 WARN WindowExec: No Partition Defined for Window operation! Moving all data to a single partition, this can cause serious performance degradation.\n",
      "                                                                                \r"
     ]
    },
    {
     "data": {
      "text/plain": [
       "0.8048048048048049"
      ]
     },
     "execution_count": 18,
     "metadata": {},
     "output_type": "execute_result"
    }
   ],
   "source": [
    "ev.evaluate(model2.transform(val))"
   ]
  },
  {
   "cell_type": "markdown",
   "id": "20b7fb78-dba2-4436-a9e4-753f4e11833d",
   "metadata": {
    "execution": {
     "iopub.execute_input": "2023-05-02T20:22:08.597540Z",
     "iopub.status.busy": "2023-05-02T20:22:08.597224Z",
     "iopub.status.idle": "2023-05-02T20:22:08.756475Z",
     "shell.execute_reply": "2023-05-02T20:22:08.755295Z",
     "shell.execute_reply.started": "2023-05-02T20:22:08.597496Z"
    },
    "tags": []
   },
   "source": [
    "## Random Forest"
   ]
  },
  {
   "cell_type": "code",
   "execution_count": 19,
   "id": "48c56f5d-d6fc-46fb-bc94-c356053c3401",
   "metadata": {
    "execution": {
     "iopub.execute_input": "2023-05-02T20:22:08.761520Z",
     "iopub.status.busy": "2023-05-02T20:22:08.760547Z",
     "iopub.status.idle": "2023-05-02T20:22:10.546242Z",
     "shell.execute_reply": "2023-05-02T20:22:10.172135Z",
     "shell.execute_reply.started": "2023-05-02T20:22:08.761344Z"
    },
    "tags": []
   },
   "outputs": [],
   "source": [
    "pg3 =ParamGridBuilder().build()\n",
    "cv = CrossValidator(estimator=p3,\n",
    "                          estimatorParamMaps=pg3,\n",
    "                          evaluator=ev,\n",
    "                          numFolds=3)"
   ]
  },
  {
   "cell_type": "code",
   "execution_count": 20,
   "id": "e93274e7-fab5-4ea8-9751-47351a8a27b7",
   "metadata": {
    "execution": {
     "iopub.execute_input": "2023-05-02T20:22:10.548882Z",
     "iopub.status.busy": "2023-05-02T20:22:10.548426Z"
    },
    "tags": []
   },
   "outputs": [
    {
     "name": "stderr",
     "output_type": "stream",
     "text": [
      "23/05/03 21:34:25 WARN WindowExec: No Partition Defined for Window operation! Moving all data to a single partition, this can cause serious performance degradation.\n",
      "23/05/03 21:34:25 WARN WindowExec: No Partition Defined for Window operation! Moving all data to a single partition, this can cause serious performance degradation.\n",
      "23/05/03 21:34:52 WARN WindowExec: No Partition Defined for Window operation! Moving all data to a single partition, this can cause serious performance degradation.\n",
      "23/05/03 21:34:53 WARN WindowExec: No Partition Defined for Window operation! Moving all data to a single partition, this can cause serious performance degradation.\n",
      "23/05/03 21:35:14 WARN WindowExec: No Partition Defined for Window operation! Moving all data to a single partition, this can cause serious performance degradation.\n",
      "23/05/03 21:35:14 WARN WindowExec: No Partition Defined for Window operation! Moving all data to a single partition, this can cause serious performance degradation.\n",
      "23/05/03 21:35:32 WARN WindowExec: No Partition Defined for Window operation! Moving all data to a single partition, this can cause serious performance degradation.\n",
      "23/05/03 21:35:32 WARN WindowExec: No Partition Defined for Window operation! Moving all data to a single partition, this can cause serious performance degradation.\n",
      "23/05/03 21:35:33 WARN WindowExec: No Partition Defined for Window operation! Moving all data to a single partition, this can cause serious performance degradation.\n",
      "23/05/03 21:35:33 WARN WindowExec: No Partition Defined for Window operation! Moving all data to a single partition, this can cause serious performance degradation.\n",
      "23/05/03 21:35:33 WARN WindowExec: No Partition Defined for Window operation! Moving all data to a single partition, this can cause serious performance degradation.\n",
      "23/05/03 21:35:33 WARN WindowExec: No Partition Defined for Window operation! Moving all data to a single partition, this can cause serious performance degradation.\n",
      "23/05/03 21:35:35 WARN WindowExec: No Partition Defined for Window operation! Moving all data to a single partition, this can cause serious performance degradation.\n",
      "23/05/03 21:35:35 WARN WindowExec: No Partition Defined for Window operation! Moving all data to a single partition, this can cause serious performance degradation.\n",
      "23/05/03 21:35:37 WARN WindowExec: No Partition Defined for Window operation! Moving all data to a single partition, this can cause serious performance degradation.\n",
      "23/05/03 21:35:37 WARN WindowExec: No Partition Defined for Window operation! Moving all data to a single partition, this can cause serious performance degradation.\n",
      "23/05/03 21:35:39 WARN WindowExec: No Partition Defined for Window operation! Moving all data to a single partition, this can cause serious performance degradation.\n",
      "23/05/03 21:35:39 WARN WindowExec: No Partition Defined for Window operation! Moving all data to a single partition, this can cause serious performance degradation.\n",
      "23/05/03 21:35:41 WARN WindowExec: No Partition Defined for Window operation! Moving all data to a single partition, this can cause serious performance degradation.\n",
      "23/05/03 21:35:41 WARN WindowExec: No Partition Defined for Window operation! Moving all data to a single partition, this can cause serious performance degradation.\n",
      "23/05/03 21:35:42 WARN WindowExec: No Partition Defined for Window operation! Moving all data to a single partition, this can cause serious performance degradation.\n",
      "23/05/03 21:35:42 WARN WindowExec: No Partition Defined for Window operation! Moving all data to a single partition, this can cause serious performance degradation.\n",
      "23/05/03 21:35:42 WARN WindowExec: No Partition Defined for Window operation! Moving all data to a single partition, this can cause serious performance degradation.\n",
      "23/05/03 21:35:42 WARN WindowExec: No Partition Defined for Window operation! Moving all data to a single partition, this can cause serious performance degradation.\n",
      "23/05/03 21:35:45 WARN WindowExec: No Partition Defined for Window operation! Moving all data to a single partition, this can cause serious performance degradation.\n",
      "23/05/03 21:35:45 WARN WindowExec: No Partition Defined for Window operation! Moving all data to a single partition, this can cause serious performance degradation.\n",
      "23/05/03 21:35:46 WARN WindowExec: No Partition Defined for Window operation! Moving all data to a single partition, this can cause serious performance degradation.\n",
      "23/05/03 21:35:46 WARN WindowExec: No Partition Defined for Window operation! Moving all data to a single partition, this can cause serious performance degradation.\n",
      "23/05/03 21:35:46 WARN WindowExec: No Partition Defined for Window operation! Moving all data to a single partition, this can cause serious performance degradation.\n",
      "23/05/03 21:35:46 WARN WindowExec: No Partition Defined for Window operation! Moving all data to a single partition, this can cause serious performance degradation.\n",
      "23/05/03 21:35:47 WARN WindowExec: No Partition Defined for Window operation! Moving all data to a single partition, this can cause serious performance degradation.\n",
      "23/05/03 21:35:47 WARN WindowExec: No Partition Defined for Window operation! Moving all data to a single partition, this can cause serious performance degradation.\n",
      "23/05/03 21:35:48 WARN WindowExec: No Partition Defined for Window operation! Moving all data to a single partition, this can cause serious performance degradation.\n",
      "23/05/03 21:35:48 WARN WindowExec: No Partition Defined for Window operation! Moving all data to a single partition, this can cause serious performance degradation.\n",
      "23/05/03 21:35:48 WARN WindowExec: No Partition Defined for Window operation! Moving all data to a single partition, this can cause serious performance degradation.\n",
      "23/05/03 21:35:48 WARN WindowExec: No Partition Defined for Window operation! Moving all data to a single partition, this can cause serious performance degradation.\n"
     ]
    }
   ],
   "source": [
    "model3 = cv.fit(train)"
   ]
  },
  {
   "cell_type": "code",
   "execution_count": 21,
   "id": "6e87088b-7475-408d-ad89-62781b63d036",
   "metadata": {
    "tags": []
   },
   "outputs": [
    {
     "name": "stderr",
     "output_type": "stream",
     "text": [
      "23/05/03 21:35:50 WARN WindowExec: No Partition Defined for Window operation! Moving all data to a single partition, this can cause serious performance degradation.\n",
      "23/05/03 21:35:50 WARN WindowExec: No Partition Defined for Window operation! Moving all data to a single partition, this can cause serious performance degradation.\n",
      "23/05/03 21:35:53 WARN WindowExec: No Partition Defined for Window operation! Moving all data to a single partition, this can cause serious performance degradation.\n",
      "23/05/03 21:35:53 WARN WindowExec: No Partition Defined for Window operation! Moving all data to a single partition, this can cause serious performance degradation.\n",
      "23/05/03 21:35:54 WARN WindowExec: No Partition Defined for Window operation! Moving all data to a single partition, this can cause serious performance degradation.\n",
      "23/05/03 21:35:54 WARN WindowExec: No Partition Defined for Window operation! Moving all data to a single partition, this can cause serious performance degradation.\n",
      "                                                                                \r"
     ]
    },
    {
     "data": {
      "text/plain": [
       "0.7552447552447552"
      ]
     },
     "execution_count": 21,
     "metadata": {},
     "output_type": "execute_result"
    }
   ],
   "source": [
    "ev.evaluate(model3.transform(val))"
   ]
  }
 ],
 "metadata": {
  "kernelspec": {
   "display_name": "Python 3 (ipykernel)",
   "language": "python",
   "name": "python3"
  },
  "language_info": {
   "codemirror_mode": {
    "name": "ipython",
    "version": 3
   },
   "file_extension": ".py",
   "mimetype": "text/x-python",
   "name": "python",
   "nbconvert_exporter": "python",
   "pygments_lexer": "ipython3",
   "version": "3.9.12"
  }
 },
 "nbformat": 4,
 "nbformat_minor": 5
}
